{
 "cells": [
  {
   "cell_type": "markdown",
   "metadata": {},
   "source": [
    "## Iplotly code to plot spectra generate by gpl from bc03"
   ]
  },
  {
   "cell_type": "code",
   "execution_count": 2,
   "metadata": {
    "collapsed": true
   },
   "outputs": [],
   "source": [
    "import matplotlib # the whole package\n",
    "import matplotlib.pyplot as plt # a useful shortcut to the most common library\n",
    "\n",
    "%matplotlib inline\n",
    "\n",
    "import numpy as np\n",
    "import plotly.graph_objs as go \n",
    "import plotly \n",
    "plotly.tools.set_credentials_file(username='', api_key='') \n",
    "import plotly.plotly as py\n",
    "from plotly.graph_objs import *"
   ]
  },
  {
   "cell_type": "code",
   "execution_count": 3,
   "metadata": {
    "collapsed": true
   },
   "outputs": [],
   "source": [
    "# A variable that specifies index of list member that correspond to 5000A\n",
    "w=479"
   ]
  },
  {
   "cell_type": "code",
   "execution_count": 4,
   "metadata": {
    "collapsed": true
   },
   "outputs": [],
   "source": [
    "# variable that define path to a needed file\n",
    "# I got data from GALAXEV, gpl that is spectra generated for simple stellar population at constant metallicity\n",
    "pop_m22='/Users/anastasiaspiridonova/Desktop/summer/GALAXEV/initial/BaSeL3.1_Atlas/Chabrier_IMF/individual_spectra_gpl/m22_multiply_ages'\n",
    "pop_m42='/Users/anastasiaspiridonova/Desktop/summer/GALAXEV/initial/BaSeL3.1_Atlas/Chabrier_IMF/individual_spectra_gpl/m42_multiple_ages'\n",
    "pop_m62='/Users/anastasiaspiridonova/Desktop/summer/GALAXEV/initial/BaSeL3.1_Atlas/Chabrier_IMF/individual_spectra_gpl/m62_multiple_ages'\n"
   ]
  },
  {
   "cell_type": "code",
   "execution_count": 5,
   "metadata": {
    "collapsed": true
   },
   "outputs": [],
   "source": [
    "# Define type of data for each file\n",
    "dtype22=np.dtype([('wavelength', ('f8')),('lum_1', ('f8')),('lum_3', ('f8')),('lum_5', ('f8')),('lum_7', ('f8')),('lum_13', ('f8'))])\n",
    "dtype42=np.dtype([('wavelength', ('f8')),('lum_1', ('f8')),('lum_3', ('f8')),('lum_5', ('f8')),('lum_7', ('f8')),('lum_13', ('f8'))])\n",
    "dtype62=np.dtype([('wavelength', ('f8')),('lum_1', ('f8')),('lum_3', ('f8')),('lum_5', ('f8')),('lum_7', ('f8')),('lum_13', ('f8'))])\n"
   ]
  },
  {
   "cell_type": "code",
   "execution_count": 6,
   "metadata": {
    "collapsed": true
   },
   "outputs": [],
   "source": [
    "# Load files\n",
    "a = np.loadtxt(pop_m22, dtype=dtype22, skiprows=2)\n",
    "c = np.loadtxt(pop_m42, dtype=dtype42, skiprows=2)\n",
    "e = np.loadtxt(pop_m62, dtype=dtype62, skiprows=2)\n"
   ]
  },
  {
   "cell_type": "code",
   "execution_count": 7,
   "metadata": {
    "collapsed": true
   },
   "outputs": [],
   "source": [
    "# Convert data for m22 to list 1,3,5,7,13 corresponds to ages I have data for. I used files I already generated\n",
    "# In the simulation I use only ages 1 and 3\n",
    "wavelength2=np.array(a['wavelength']).tolist()\n",
    "lum2_1=np.array(a['lum_1']).tolist() \n",
    "lum2_3=np.array(a['lum_3']).tolist() \n",
    "lum2_5=np.array(a['lum_5']).tolist() \n",
    "lum2_7=np.array(a['lum_7']).tolist() \n",
    "lum2_13=np.array(a['lum_13']).tolist() "
   ]
  },
  {
   "cell_type": "code",
   "execution_count": 8,
   "metadata": {
    "collapsed": true
   },
   "outputs": [],
   "source": [
    "# Convert data for m42\n",
    "wavelength4=np.array(c['wavelength']).tolist()\n",
    "lum4_1=np.array(c['lum_1']).tolist() \n",
    "lum4_3=np.array(c['lum_3']).tolist() \n",
    "lum4_5=np.array(c['lum_5']).tolist() \n",
    "lum4_7=np.array(c['lum_7']).tolist() \n",
    "lum4_13=np.array(c['lum_13']).tolist() "
   ]
  },
  {
   "cell_type": "code",
   "execution_count": 9,
   "metadata": {
    "collapsed": true
   },
   "outputs": [],
   "source": [
    "# Convert data for m62\n",
    "wavelength6=np.array(e['wavelength']).tolist()\n",
    "lum6_1=np.array(e['lum_1']).tolist() \n",
    "lum6_3=np.array(e['lum_3']).tolist() \n",
    "lum6_5=np.array(e['lum_5']).tolist() \n",
    "lum6_7=np.array(e['lum_7']).tolist() \n",
    "lum6_13=np.array(e['lum_13']).tolist() "
   ]
  },
  {
   "cell_type": "code",
   "execution_count": 10,
   "metadata": {
    "collapsed": true
   },
   "outputs": [],
   "source": [
    "# Define x, y for m22 'age2' means metalicity 22. '_3' stand for Gyr\n",
    "x2=wavelength2\n",
    "x4=wavelength4\n",
    "x6=wavelength6"
   ]
  },
  {
   "cell_type": "code",
   "execution_count": 11,
   "metadata": {
    "collapsed": true
   },
   "outputs": [],
   "source": [
    "# define variable for y values at age 1 Gyr\n",
    "age2=lum2_1\n",
    "age4=lum4_1\n",
    "age6=lum6_1"
   ]
  },
  {
   "cell_type": "code",
   "execution_count": 12,
   "metadata": {
    "collapsed": true
   },
   "outputs": [],
   "source": [
    " #possible choices are for metalicity m22:\n",
    " # lum2_1   - 1 Gyr\n",
    " #lum2_3   - 3 Gyr\n",
    " #lum2_5   - 5 Gyr\n",
    " #lum2_13  - 13 Gyr\n",
    " \n",
    " #For metalicity m32\n",
    " #lum3_1   - 1 Gyr\n",
    " #lum3_3   - 3 Gyr\n",
    " #lum3_5   - 5 Gyr\n",
    " #lum3_13  - 13 Gyr"
   ]
  },
  {
   "cell_type": "code",
   "execution_count": 13,
   "metadata": {
    "collapsed": true
   },
   "outputs": [],
   "source": [
    "# Data normalization at wavelenght 5000A at age 1 Gyr\n",
    "N4=age2[w]/age4[w]\n",
    "normN4=[x*N4 for x in age4]\n",
    "Age4_N=normN4\n",
    "\n",
    "N6=age2[w]/age6[w]\n",
    "normN6=[x*N6 for x in age6]\n",
    "Age6_N=normN6"
   ]
  },
  {
   "cell_type": "code",
   "execution_count": 14,
   "metadata": {
    "collapsed": true
   },
   "outputs": [],
   "source": [
    "# define variable for y values at age 5 Gyr\n",
    "age2_5=lum2_5\n",
    "age4_5=lum4_5\n",
    "age6_5=lum6_5\n",
    "\n",
    "# Data normalization at wavelenght 5000A at age 3 Gyr\n",
    "\n",
    "N4_5=age2_5[w]/age4_5[w]\n",
    "normN4_5=[x*N4_5 for x in age4_5]\n",
    "\n",
    "N6_5=age2_5[w]/age6_5[w]\n",
    "normN6_5=[x*N6_5 for x in age6_5]\n"
   ]
  },
  {
   "cell_type": "markdown",
   "metadata": {
    "collapsed": true
   },
   "source": [
    "# Code to make graphs and buttons"
   ]
  },
  {
   "cell_type": "code",
   "execution_count": 16,
   "metadata": {
    "collapsed": true
   },
   "outputs": [],
   "source": [
    "# Code below makes graphs\n",
    "trace_met1 = go.Scatter(x=x2,\n",
    "                        y=lum2_1,\n",
    "                        name='0.0001, 1 Gyr',\n",
    "                        line=dict(color='#33CFA5'))\n"
   ]
  },
  {
   "cell_type": "code",
   "execution_count": 17,
   "metadata": {
    "collapsed": false
   },
   "outputs": [],
   "source": [
    "\n",
    "trace_met3 = go.Scatter(x=x4,\n",
    "                        y=Age4_N,\n",
    "                        name='0.004, 1 Gyr',\n",
    "                        line=dict(color='#7FA6EE'))\n",
    "trace_met5 = go.Scatter(x=x6,\n",
    "                        y=Age6_N,\n",
    "                        name='0.02 - Solar metallicity, 1 Gyr',\n",
    "                        line=dict(color='#835AF1'))\n",
    "met1_5= go.Scatter(x=x2,\n",
    "                        y=lum2_5,\n",
    "                        name='0.0001, age 5 Gyr',\n",
    "                        line=dict(color='#000000'))\n",
    "met4_5=go.Scatter(x=x4,\n",
    "                        y=normN4_5,\n",
    "                        name='0.004, 5 Gyr',\n",
    "                        line=dict(color='#F06A6A'))\n",
    "\n",
    "met6_5=go.Scatter(x=x6,\n",
    "                        y=normN6_5,\n",
    "                        name='0.02 Solar, 5 Gyr',\n",
    "                        line=dict(color='#B8F7D4'))"
   ]
  },
  {
   "cell_type": "code",
   "execution_count": 18,
   "metadata": {
    "collapsed": true
   },
   "outputs": [],
   "source": [
    "# define data to plot lately\n",
    "data=[trace_met1,trace_met3,trace_met5,met1_5,met4_5,met6_5]"
   ]
  },
  {
   "cell_type": "code",
   "execution_count": 19,
   "metadata": {
    "collapsed": true
   },
   "outputs": [],
   "source": [
    "# code to make buttons to choose graphs to be displayed\n",
    "updatemenus = list([\n",
    "    dict(buttons=list([  \n",
    "            dict(label = 'None',\n",
    "                 method = 'restyle',\n",
    "                 args = ['visible', [False, False,False,False, False,False]]),\n",
    "            dict(label = '0.0001, 1 Gyr',\n",
    "                 method = 'restyle',\n",
    "                 args = ['visible', [True,False, False,False, False,False]]),\n",
    "            dict(label = '0.004, 1 Gyr',\n",
    "                 method = 'restyle',\n",
    "                 args = ['visible', [True,True,False,False, False,False]]),\n",
    "           dict(label = '0.02-Solar, 1 Gyr',\n",
    "                 method = 'restyle',\n",
    "                 args = ['visible', [True,False,True,False, False,False]]),\n",
    "           dict(label = 'All spectra at age 1 Gyr',\n",
    "                 method = 'restyle',\n",
    "                 args = ['visible', [True,True,True,False, False,False]]),\n",
    "           dict(label = '0.0001, 5 Gyr',\n",
    "                 method = 'restyle',\n",
    "                 args = ['visible', [False,False, False,True, False,False]]),\n",
    "            dict(label = '0.004, 5 Gyr',\n",
    "                 method = 'restyle',\n",
    "                 args = ['visible', [False,False,False,True, True,False]]),\n",
    "           dict(label = '0.02-Solar, 5 Gyr',\n",
    "                 method = 'restyle',\n",
    "                 args = ['visible', [False,False,False,True, False,True]]),\n",
    "           dict(label = 'All spectra at age 5 Gyr',\n",
    "                 method = 'restyle',\n",
    "                 args = ['visible', [False,False,False,True, True,True]]),\n",
    "           dict(label = '0.0001 at age 1 and 5 Gyr',\n",
    "                 method = 'restyle',\n",
    "                 args = ['visible', [True,False,False, True,False,False]]),\n",
    "           dict(label = '0.004 at age 1 and 5 Gyr',\n",
    "                 method = 'restyle',\n",
    "                 args = ['visible', [False,True,False, False,True,False]]),\n",
    "           dict(label = '0.02 at age 1 and 5 Gyr',\n",
    "                 method = 'restyle',\n",
    "                 args = ['visible', [False,False,True,False, False,True]]),\n",
    "           dict(label = 'All spectra',\n",
    "                 method = 'restyle',\n",
    "                 args = ['visible', [True, True,True,True, True,True]]),\n",
    "                    ]),\n",
    "        direction = 'down',\n",
    "        pad = {'r': 10, 't': 10},\n",
    "        showactive = True,\n",
    "        type = 'buttons',\n",
    "        x = 50,\n",
    "        xanchor = 'right',\n",
    "        y = 50,\n",
    "        yanchor = 'top'\n",
    "    )\n",
    "    \n",
    "])"
   ]
  },
  {
   "cell_type": "code",
   "execution_count": 20,
   "metadata": {
    "collapsed": false
   },
   "outputs": [
    {
     "data": {
      "text/plain": [
       "<function plotly.plotly.plotly.iplot>"
      ]
     },
     "execution_count": 20,
     "metadata": {},
     "output_type": "execute_result"
    }
   ],
   "source": [
    "# actual plotting\n",
    "layout = dict(xaxis=dict(type='log', title='Wavelenght (Angstroms)'),\\\n",
    "              yaxis=dict(type='log', title='Luminosity (arbitrary units)'),\\\n",
    "              title='Dependance of Spectra on Metallicity Normalized at 5000 A', showlegend=True,\\\n",
    "              updatemenus=updatemenus)\n",
    "\n",
    "fig = dict(data=data, layout=layout)\n",
    "\n",
    "py.iplot(fig, filename='relayout_option_dropdown')\n",
    "py.iplot"
   ]
  },
  {
   "cell_type": "code",
   "execution_count": null,
   "metadata": {
    "collapsed": true
   },
   "outputs": [],
   "source": []
  }
 ],
 "metadata": {
  "kernelspec": {
   "display_name": "Python 2",
   "language": "python",
   "name": "python2"
  },
  "language_info": {
   "codemirror_mode": {
    "name": "ipython",
    "version": 2
   },
   "file_extension": ".py",
   "mimetype": "text/x-python",
   "name": "python",
   "nbconvert_exporter": "python",
   "pygments_lexer": "ipython2",
   "version": "2.7.13"
  }
 },
 "nbformat": 4,
 "nbformat_minor": 0
}
